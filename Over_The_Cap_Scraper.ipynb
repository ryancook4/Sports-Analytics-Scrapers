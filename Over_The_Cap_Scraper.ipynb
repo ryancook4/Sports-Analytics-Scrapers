{
 "cells": [
  {
   "cell_type": "code",
   "execution_count": 44,
   "metadata": {
    "id": "I9bnEkpJuZ5C"
   },
   "outputs": [],
   "source": [
    "# import required packages\n",
    "import pandas as pd\n",
    "import requests\n",
    "import numpy as np\n",
    "#from google.colab import files  # for downloading files\n",
    "import bs4\n",
    "from bs4 import BeautifulSoup\n",
    "# suppress warnings\n",
    "import pandas as pd\n",
    "pd.options.mode.chained_assignment = None  # default='warn'\n",
    "\n",
    "import re"
   ]
  },
  {
   "cell_type": "code",
   "execution_count": 173,
   "metadata": {},
   "outputs": [],
   "source": [
    "url = 'https://overthecap.com/historical-team-spending'\n",
    "\n",
    "team_page = requests.get(url) # send get request\n",
    "soup = BeautifulSoup(team_page.content, 'html.parser') # parse\n",
    "\n",
    "\n",
    "teams = soup.find('ul', {'class': 'depth-chart-teams'})\n",
    "team_a = teams.find_all('a')\n",
    "team_suffix = [ str(team).split('\\\"')[3].strip() for team in team_a ]\n",
    "\n",
    "\n",
    "team_hrefs = [ 'https://overthecap.com/' + team for team in team_suffix ]"
   ]
  },
  {
   "cell_type": "code",
   "execution_count": 175,
   "metadata": {},
   "outputs": [
    {
     "name": "stdout",
     "output_type": "stream",
     "text": [
      "-- Added: Buffalo Bills\n",
      "-- Added: Miami Dolphins\n",
      "-- Added: New England\n",
      "-- Added: New York\n",
      "-- Added: Baltimore Ravens\n",
      "-- Added: Cincinnati Bengals\n",
      "-- Added: Cleveland Browns\n",
      "-- Added: Pittsburgh Steelers\n",
      "-- Added: Houston Texans\n",
      "-- Added: Indianapolis Colts\n",
      "-- Added: Jacksonville Jaguars\n",
      "-- Added: Tennessee Titans\n",
      "-- Added: Denver Broncos\n",
      "-- Added: Kansas City\n",
      "-- Added: Las Vegas\n",
      "-- Added: Los Angeles\n",
      "-- Added: Dallas Cowboys\n",
      "-- Added: New York\n",
      "-- Added: Philadelphia Eagles\n",
      "-- Added: Washington Football\n",
      "-- Added: Chicago Bears\n",
      "-- Added: Detroit Lions\n",
      "-- Added: Green Bay\n",
      "-- Added: Minnesota Vikings\n",
      "-- Added: Atlanta Falcons\n",
      "-- Added: Carolina Panthers\n",
      "-- Added: New Orleans\n",
      "-- Added: Tampa Bay\n",
      "-- Added: Arizona Cardinals\n",
      "-- Added: Los Angeles\n",
      "-- Added: San Francisco\n",
      "-- Added: Seattle Seahawks\n"
     ]
    }
   ],
   "source": [
    "stats = []\n",
    "\n",
    "for i in range(len(team_hrefs)):\n",
    "    players = requests.get(team_hrefs[i]) # send get request\n",
    "    play_df_list = pd.read_html(players.text)  # this parses all the tables in webpages to a list\n",
    "    play_df = play_df_list[0] # grab the first table\n",
    "\n",
    "    # add Team name from h3 object\n",
    "    soup = BeautifulSoup(players.content, 'html.parser') \n",
    "    team = soup.find(\"h3\").text.split()[:2]\n",
    "    play_df['Team'] = \" \".join(team)\n",
    "    \n",
    "    stats.append(play_df)\n",
    "    \n",
    "    print('-- Added: {}' .format(play_df['Team'][0]))\n",
    "    "
   ]
  },
  {
   "cell_type": "code",
   "execution_count": 179,
   "metadata": {},
   "outputs": [],
   "source": [
    "cap_stats = pd.concat(stats)"
   ]
  },
  {
   "cell_type": "code",
   "execution_count": 181,
   "metadata": {},
   "outputs": [],
   "source": [
    "cap_stats.to_csv('/Users/ryancook/Downloads/over_the_cap.csv')"
   ]
  },
  {
   "cell_type": "code",
   "execution_count": null,
   "metadata": {},
   "outputs": [],
   "source": []
  }
 ],
 "metadata": {
  "colab": {
   "collapsed_sections": [],
   "name": "Football Database Scraper",
   "provenance": []
  },
  "kernelspec": {
   "display_name": "Python 3",
   "language": "python",
   "name": "python3"
  },
  "language_info": {
   "codemirror_mode": {
    "name": "ipython",
    "version": 3
   },
   "file_extension": ".py",
   "mimetype": "text/x-python",
   "name": "python",
   "nbconvert_exporter": "python",
   "pygments_lexer": "ipython3",
   "version": "3.7.3"
  }
 },
 "nbformat": 4,
 "nbformat_minor": 1
}
