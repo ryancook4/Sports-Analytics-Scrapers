{
 "cells": [
  {
   "cell_type": "code",
   "execution_count": 115,
   "metadata": {
    "id": "I9bnEkpJuZ5C"
   },
   "outputs": [],
   "source": [
    "# import required packages\n",
    "import pandas as pd\n",
    "import requests\n",
    "import numpy as np\n",
    "import re\n",
    "\n",
    "#from google.colab import files  # for downloading files\n",
    "import bs4\n",
    "from bs4 import BeautifulSoup\n",
    "\n",
    "# suppress warnings\n",
    "import pandas as pd\n",
    "pd.options.mode.chained_assignment = None  # default='warn'\n",
    "\n",
    "# import advanced scraping packages\n",
    "import requests, lxml.html"
   ]
  },
  {
   "cell_type": "code",
   "execution_count": 3,
   "metadata": {},
   "outputs": [],
   "source": [
    "team_abb = pd.read_csv(\"/Users/ryancook/Desktop/Syracuse-Analytics-Blitz/data/nfl_teams.csv\")"
   ]
  },
  {
   "cell_type": "code",
   "execution_count": 23,
   "metadata": {},
   "outputs": [
    {
     "data": {
      "text/plain": [
       "['https://www.spotrac.com/nfl/rankings/2014/cap-hit/running-back',\n",
       " 'https://www.spotrac.com/nfl/rankings/2014/cap-hit/wide-receiver',\n",
       " 'https://www.spotrac.com/nfl/rankings/2014/cap-hit/quarterback',\n",
       " 'https://www.spotrac.com/nfl/rankings/2014/cap-hit/fullback',\n",
       " 'https://www.spotrac.com/nfl/rankings/2014/cap-hit/tight-end',\n",
       " 'https://www.spotrac.com/nfl/rankings/2015/cap-hit/running-back',\n",
       " 'https://www.spotrac.com/nfl/rankings/2015/cap-hit/wide-receiver',\n",
       " 'https://www.spotrac.com/nfl/rankings/2015/cap-hit/quarterback',\n",
       " 'https://www.spotrac.com/nfl/rankings/2015/cap-hit/fullback',\n",
       " 'https://www.spotrac.com/nfl/rankings/2015/cap-hit/tight-end',\n",
       " 'https://www.spotrac.com/nfl/rankings/2016/cap-hit/running-back',\n",
       " 'https://www.spotrac.com/nfl/rankings/2016/cap-hit/wide-receiver',\n",
       " 'https://www.spotrac.com/nfl/rankings/2016/cap-hit/quarterback',\n",
       " 'https://www.spotrac.com/nfl/rankings/2016/cap-hit/fullback',\n",
       " 'https://www.spotrac.com/nfl/rankings/2016/cap-hit/tight-end',\n",
       " 'https://www.spotrac.com/nfl/rankings/2017/cap-hit/running-back',\n",
       " 'https://www.spotrac.com/nfl/rankings/2017/cap-hit/wide-receiver',\n",
       " 'https://www.spotrac.com/nfl/rankings/2017/cap-hit/quarterback',\n",
       " 'https://www.spotrac.com/nfl/rankings/2017/cap-hit/fullback',\n",
       " 'https://www.spotrac.com/nfl/rankings/2017/cap-hit/tight-end',\n",
       " 'https://www.spotrac.com/nfl/rankings/2018/cap-hit/running-back',\n",
       " 'https://www.spotrac.com/nfl/rankings/2018/cap-hit/wide-receiver',\n",
       " 'https://www.spotrac.com/nfl/rankings/2018/cap-hit/quarterback',\n",
       " 'https://www.spotrac.com/nfl/rankings/2018/cap-hit/fullback',\n",
       " 'https://www.spotrac.com/nfl/rankings/2018/cap-hit/tight-end',\n",
       " 'https://www.spotrac.com/nfl/rankings/2019/cap-hit/running-back',\n",
       " 'https://www.spotrac.com/nfl/rankings/2019/cap-hit/wide-receiver',\n",
       " 'https://www.spotrac.com/nfl/rankings/2019/cap-hit/quarterback',\n",
       " 'https://www.spotrac.com/nfl/rankings/2019/cap-hit/fullback',\n",
       " 'https://www.spotrac.com/nfl/rankings/2019/cap-hit/tight-end',\n",
       " 'https://www.spotrac.com/nfl/rankings/2020/cap-hit/running-back',\n",
       " 'https://www.spotrac.com/nfl/rankings/2020/cap-hit/wide-receiver',\n",
       " 'https://www.spotrac.com/nfl/rankings/2020/cap-hit/quarterback',\n",
       " 'https://www.spotrac.com/nfl/rankings/2020/cap-hit/fullback',\n",
       " 'https://www.spotrac.com/nfl/rankings/2020/cap-hit/tight-end']"
      ]
     },
     "execution_count": 23,
     "metadata": {},
     "output_type": "execute_result"
    }
   ],
   "source": [
    "years_num = list(range(2014,2021))\n",
    "years = [ str(i) for i in years_num ]\n",
    "\n",
    "pos = ['running-back', 'wide-receiver', 'quarterback', 'fullback', 'tight-end']\n",
    "\n",
    "\n",
    "urls = []\n",
    "for year in range(len(years)):\n",
    "    for p in range(len(pos)):\n",
    "        url = 'https://www.spotrac.com/nfl/rankings/' + years[year] + '/cap-hit/' + pos[p]\n",
    "        urls.append(url)\n",
    "\n",
    "\n",
    "# flip order of urls for most recent years first\n",
    "urls = urls[::-1] "
   ]
  },
  {
   "cell_type": "code",
   "execution_count": 172,
   "metadata": {
    "scrolled": true
   },
   "outputs": [
    {
     "name": "stdout",
     "output_type": "stream",
     "text": [
      "-- Added cap stats for TEs in 2020 (141 rows)\n",
      "-- Added cap stats for FBs in 2020 (20 rows)\n",
      "-- Added cap stats for QBs in 2020 (91 rows)\n",
      "-- Added cap stats for WRs in 2020 (232 rows)\n",
      "-- Added cap stats for RBs in 2020 (151 rows)\n",
      "-- Added cap stats for TEs in 2019 (142 rows)\n",
      "-- Added cap stats for FBs in 2019 (25 rows)\n",
      "-- Added cap stats for QBs in 2019 (94 rows)\n",
      "-- Added cap stats for WRs in 2019 (250 rows)\n",
      "-- Added cap stats for RBs in 2019 (140 rows)\n",
      "-- Added cap stats for TEs in 2018 (139 rows)\n",
      "-- Added cap stats for FBs in 2018 (22 rows)\n",
      "-- Added cap stats for QBs in 2018 (90 rows)\n",
      "-- Added cap stats for WRs in 2018 (250 rows)\n",
      "-- Added cap stats for RBs in 2018 (148 rows)\n"
     ]
    },
    {
     "ename": "IndexError",
     "evalue": "list index out of range",
     "output_type": "error",
     "traceback": [
      "\u001b[0;31m---------------------------------------------------------------------------\u001b[0m",
      "\u001b[0;31mIndexError\u001b[0m                                Traceback (most recent call last)",
      "\u001b[0;32m<ipython-input-172-442ad764b676>\u001b[0m in \u001b[0;36m<module>\u001b[0;34m\u001b[0m\n\u001b[1;32m      9\u001b[0m         \u001b[0;31m# Get page content, find first table, and save to df\u001b[0m\u001b[0;34m\u001b[0m\u001b[0;34m\u001b[0m\u001b[0;34m\u001b[0m\u001b[0m\n\u001b[1;32m     10\u001b[0m         \u001b[0msoup\u001b[0m \u001b[0;34m=\u001b[0m \u001b[0mBeautifulSoup\u001b[0m\u001b[0;34m(\u001b[0m\u001b[0mr\u001b[0m\u001b[0;34m.\u001b[0m\u001b[0mcontent\u001b[0m\u001b[0;34m,\u001b[0m \u001b[0;34m'lxml'\u001b[0m\u001b[0;34m)\u001b[0m\u001b[0;34m\u001b[0m\u001b[0;34m\u001b[0m\u001b[0m\n\u001b[0;32m---> 11\u001b[0;31m         \u001b[0mtable\u001b[0m \u001b[0;34m=\u001b[0m \u001b[0msoup\u001b[0m\u001b[0;34m.\u001b[0m\u001b[0mfind_all\u001b[0m\u001b[0;34m(\u001b[0m\u001b[0;34m'table'\u001b[0m\u001b[0;34m)\u001b[0m\u001b[0;34m[\u001b[0m\u001b[0;36m0\u001b[0m\u001b[0;34m]\u001b[0m\u001b[0;34m\u001b[0m\u001b[0;34m\u001b[0m\u001b[0m\n\u001b[0m\u001b[1;32m     12\u001b[0m         \u001b[0mdf_list\u001b[0m \u001b[0;34m=\u001b[0m \u001b[0mpd\u001b[0m\u001b[0;34m.\u001b[0m\u001b[0mread_html\u001b[0m\u001b[0;34m(\u001b[0m\u001b[0mstr\u001b[0m\u001b[0;34m(\u001b[0m\u001b[0mtable\u001b[0m\u001b[0;34m)\u001b[0m\u001b[0;34m)\u001b[0m\u001b[0;34m\u001b[0m\u001b[0;34m\u001b[0m\u001b[0m\n\u001b[1;32m     13\u001b[0m         \u001b[0mdf\u001b[0m \u001b[0;34m=\u001b[0m \u001b[0mdf_list\u001b[0m\u001b[0;34m[\u001b[0m\u001b[0;36m0\u001b[0m\u001b[0;34m]\u001b[0m\u001b[0;34m\u001b[0m\u001b[0;34m\u001b[0m\u001b[0m\n",
      "\u001b[0;31mIndexError\u001b[0m: list index out of range"
     ]
    }
   ],
   "source": [
    "cap_stats = []\n",
    "for i in range(len(urls)): \n",
    "    with requests.session() as s:\n",
    "\n",
    "        r = s.post(urls[i], data={'ajax': True, 'mobile': False})\n",
    "\n",
    "        # Get page content, find first table, and save to df\n",
    "        soup = BeautifulSoup(r.content, 'lxml')\n",
    "        table = soup.find_all('table')[0]\n",
    "        df_list = pd.read_html(str(table))\n",
    "        df = df_list[0]\n",
    "\n",
    "        # fix rank values and col name\n",
    "        df = df.rename(columns={'Unnamed: 0':'rank','POS':'pos'})\n",
    "        df['rank'] = df['rank'].fillna(method='ffill').astype('int')\n",
    "\n",
    "        player_df = df['Player'].str.split('(\\\\s[A-Z]{2}$|\\\\s[A-Z]{3}$)', expand=True)\n",
    "        player_df.columns = ['player', 'team', 'drop']\n",
    "        player_df = player_df.drop(columns='drop')\n",
    "\n",
    "        df = pd.concat([df, player_df], axis=1).drop(columns='Player')\n",
    "        df = df[['rank', 'player', 'team', 'cap hit', 'pos']]\n",
    "\n",
    "        df['year'] = re.findall('[0-9]{4}', urls[i])[0]\n",
    "\n",
    "        df['cap hit'] = df['cap hit'].str.replace('$', '').str.replace(',', '')\n",
    "\n",
    "\n",
    "        cap_stats.append(df)\n",
    "        \n",
    "        print('-- Added cap stats for {0}s in {1} ({2} rows)' \n",
    "              .format(df['pos'][0], df['year'][0], cap_stats[i].shape[0]))\n",
    "    \n",
    "    "
   ]
  },
  {
   "cell_type": "code",
   "execution_count": 169,
   "metadata": {},
   "outputs": [],
   "source": [
    "cap_df = pd.concat(cap_stats)"
   ]
  },
  {
   "cell_type": "code",
   "execution_count": 170,
   "metadata": {},
   "outputs": [],
   "source": [
    "cap_df.to_csv('/Users/ryancook/Downloads/spotrac_cap_hit.csv')"
   ]
  },
  {
   "cell_type": "code",
   "execution_count": null,
   "metadata": {},
   "outputs": [],
   "source": []
  }
 ],
 "metadata": {
  "colab": {
   "collapsed_sections": [],
   "name": "Football Database Scraper",
   "provenance": []
  },
  "kernelspec": {
   "display_name": "Python 3",
   "language": "python",
   "name": "python3"
  },
  "language_info": {
   "codemirror_mode": {
    "name": "ipython",
    "version": 3
   },
   "file_extension": ".py",
   "mimetype": "text/x-python",
   "name": "python",
   "nbconvert_exporter": "python",
   "pygments_lexer": "ipython3",
   "version": "3.7.3"
  }
 },
 "nbformat": 4,
 "nbformat_minor": 1
}
